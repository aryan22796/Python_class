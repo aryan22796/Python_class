{
 "cells": [
  {
   "cell_type": "code",
   "execution_count": 2,
   "metadata": {},
   "outputs": [],
   "source": [
    "from threading import * # all finction"
   ]
  },
  {
   "cell_type": "markdown",
   "metadata": {},
   "source": [
    "# Define threading without class"
   ]
  },
  {
   "cell_type": "code",
   "execution_count": 20,
   "metadata": {},
   "outputs": [
    {
     "name": "stdout",
     "output_type": "stream",
     "text": [
      "child thred excuteing\n",
      "child thred excuteing\n",
      "child thred excuteing\n",
      "child thred excuteing\n",
      "child thred excuteing\n",
      "child thred excuteing\n",
      "exit\n"
     ]
    }
   ],
   "source": [
    "def exa():\n",
    "    for i in range(6):\n",
    "        print(\"child thred excuteing\")\n",
    "t1=Thread(target=exa)\n",
    "t1.start()\n",
    "t1.join()\n",
    "print(\"exit\")"
   ]
  },
  {
   "cell_type": "code",
   "execution_count": 22,
   "metadata": {},
   "outputs": [
    {
     "name": "stdout",
     "output_type": "stream",
     "text": [
      "child thred excuteing Thread-19\n",
      "child thred excuteing Thread-19\n",
      "child thred excuteing Thread-19\n",
      "child thred excuteing Thread-19\n",
      "child thred excuteing Thread-19\n",
      "child thred excuteing Thread-19\n",
      "exit MainThread\n"
     ]
    }
   ],
   "source": [
    "def exa():\n",
    "    for i in range(6):\n",
    "        print(\"child thred excuteing\",current_thread().getName())\n",
    "t1=Thread(target=exa)\n",
    "t1.start()\n",
    "t1.join()\n",
    "print(\"exit\",current_thread().getName())"
   ]
  },
  {
   "cell_type": "markdown",
   "metadata": {},
   "source": [
    "# Extend  with class"
   ]
  },
  {
   "cell_type": "code",
   "execution_count": 37,
   "metadata": {},
   "outputs": [
    {
     "name": "stdout",
     "output_type": "stream",
     "text": [
      "child  executing 2\n",
      "child  executing 1\n",
      "child  executing w\n",
      "child  executing 4.005\n",
      "child  executing class\n",
      "executeing done\n"
     ]
    }
   ],
   "source": [
    "class ex2:\n",
    "    def new(self):\n",
    "        lst=[2,1,'w',4.005,'class']\n",
    "        for i in lst:\n",
    "            print(\"child  executing\", i)\n",
    "objectex=ex2()   \n",
    "t1=Thread(target=objectex.new)\n",
    "t1.start()\n",
    "t1.join()\n",
    "print(\"executeing done\")"
   ]
  },
  {
   "cell_type": "code",
   "execution_count": 45,
   "metadata": {},
   "outputs": [
    {
     "name": "stdout",
     "output_type": "stream",
     "text": [
      "0\n",
      "2\n",
      "0\n",
      "1\n",
      "1\n",
      "2\n",
      "0\n",
      "2\n",
      "0\n",
      "0\n",
      "0\n",
      "1\n",
      "6.057270526885986\n"
     ]
    }
   ],
   "source": [
    "import time\n",
    "def ext(n):\n",
    "    for i in n:\n",
    "        time.sleep(1)\n",
    "        print(i%2)\n",
    "def ext2(n):\n",
    "    for i in n:\n",
    "        time.sleep(1)\n",
    "        print(i%3)\n",
    "n=[2,4,5,14,36,4]\n",
    "x=time.time()\n",
    "t1=Thread(target=ext,args=(n,))\n",
    "t2=Thread(target=ext2,args=(n,))\n",
    "t1.start()\n",
    "t2.start()\n",
    "t1.join()\n",
    "t2.join()\n",
    "f=time.time()\n",
    "print(f-x)"
   ]
  },
  {
   "cell_type": "code",
   "execution_count": 36,
   "metadata": {},
   "outputs": [
    {
     "ename": "RuntimeError",
     "evalue": "threads can only be started once",
     "output_type": "error",
     "traceback": [
      "\u001b[1;31m---------------------------------------------------------------------------\u001b[0m",
      "\u001b[1;31mRuntimeError\u001b[0m                              Traceback (most recent call last)",
      "\u001b[1;32m<ipython-input-36-59db63131242>\u001b[0m in \u001b[0;36m<module>\u001b[1;34m\u001b[0m\n\u001b[1;32m----> 1\u001b[1;33m \u001b[0mt1\u001b[0m\u001b[1;33m.\u001b[0m\u001b[0mstart\u001b[0m\u001b[1;33m(\u001b[0m\u001b[1;33m)\u001b[0m\u001b[1;33m\u001b[0m\u001b[1;33m\u001b[0m\u001b[0m\n\u001b[0m\u001b[0;32m      2\u001b[0m \u001b[0mt1\u001b[0m\u001b[1;33m.\u001b[0m\u001b[0mjoin\u001b[0m\u001b[1;33m(\u001b[0m\u001b[1;33m)\u001b[0m\u001b[1;33m\u001b[0m\u001b[1;33m\u001b[0m\u001b[0m\n",
      "\u001b[1;32m~\\anaconda3\\lib\\threading.py\u001b[0m in \u001b[0;36mstart\u001b[1;34m(self)\u001b[0m\n\u001b[0;32m    846\u001b[0m \u001b[1;33m\u001b[0m\u001b[0m\n\u001b[0;32m    847\u001b[0m         \u001b[1;32mif\u001b[0m \u001b[0mself\u001b[0m\u001b[1;33m.\u001b[0m\u001b[0m_started\u001b[0m\u001b[1;33m.\u001b[0m\u001b[0mis_set\u001b[0m\u001b[1;33m(\u001b[0m\u001b[1;33m)\u001b[0m\u001b[1;33m:\u001b[0m\u001b[1;33m\u001b[0m\u001b[1;33m\u001b[0m\u001b[0m\n\u001b[1;32m--> 848\u001b[1;33m             \u001b[1;32mraise\u001b[0m \u001b[0mRuntimeError\u001b[0m\u001b[1;33m(\u001b[0m\u001b[1;34m\"threads can only be started once\"\u001b[0m\u001b[1;33m)\u001b[0m\u001b[1;33m\u001b[0m\u001b[1;33m\u001b[0m\u001b[0m\n\u001b[0m\u001b[0;32m    849\u001b[0m         \u001b[1;32mwith\u001b[0m \u001b[0m_active_limbo_lock\u001b[0m\u001b[1;33m:\u001b[0m\u001b[1;33m\u001b[0m\u001b[1;33m\u001b[0m\u001b[0m\n\u001b[0;32m    850\u001b[0m             \u001b[0m_limbo\u001b[0m\u001b[1;33m[\u001b[0m\u001b[0mself\u001b[0m\u001b[1;33m]\u001b[0m \u001b[1;33m=\u001b[0m \u001b[0mself\u001b[0m\u001b[1;33m\u001b[0m\u001b[1;33m\u001b[0m\u001b[0m\n",
      "\u001b[1;31mRuntimeError\u001b[0m: threads can only be started once"
     ]
    }
   ],
   "source": [
    "import time\n",
    "def ext(n):\n",
    "    for i in n:\n",
    "        print(i%2)\n",
    "def ext2(n):\n",
    "    for i in n:\n",
    "        print(i%3)\n",
    "n=[20,11,5,14,36,4]\n",
    "x=time.time()\n",
    "ext(n)\n",
    "ext2(n)\n",
    "f=time.time()\n",
    "print(f-x)"
   ]
  },
  {
   "cell_type": "code",
   "execution_count": null,
   "metadata": {},
   "outputs": [],
   "source": []
  }
 ],
 "metadata": {
  "kernelspec": {
   "display_name": "Python 3",
   "language": "python",
   "name": "python3"
  },
  "language_info": {
   "codemirror_mode": {
    "name": "ipython",
    "version": 3
   },
   "file_extension": ".py",
   "mimetype": "text/x-python",
   "name": "python",
   "nbconvert_exporter": "python",
   "pygments_lexer": "ipython3",
   "version": "3.8.5"
  }
 },
 "nbformat": 4,
 "nbformat_minor": 4
}
