{
 "cells": [
  {
   "cell_type": "code",
   "execution_count": 2,
   "metadata": {},
   "outputs": [],
   "source": [
    "from threading import * # all finction"
   ]
  },
  {
   "cell_type": "markdown",
   "metadata": {},
   "source": [
    "# Define threading without class"
   ]
  },
  {
   "cell_type": "code",
   "execution_count": 20,
   "metadata": {},
   "outputs": [
    {
     "name": "stdout",
     "output_type": "stream",
     "text": [
      "child thred excuteing\n",
      "child thred excuteing\n",
      "child thred excuteing\n",
      "child thred excuteing\n",
      "child thred excuteing\n",
      "child thred excuteing\n",
      "exit\n"
     ]
    }
   ],
   "source": [
    "def exa():\n",
    "    for i in range(6):\n",
    "        print(\"child thred excuteing\")\n",
    "t1=Thread(target=exa)\n",
    "t1.start()\n",
    "t1.join()\n",
    "print(\"exit\")"
   ]
  },
  {
   "cell_type": "code",
   "execution_count": 22,
   "metadata": {},
   "outputs": [
    {
     "name": "stdout",
     "output_type": "stream",
     "text": [
      "child thred excuteing Thread-19\n",
      "child thred excuteing Thread-19\n",
      "child thred excuteing Thread-19\n",
      "child thred excuteing Thread-19\n",
      "child thred excuteing Thread-19\n",
      "child thred excuteing Thread-19\n",
      "exit MainThread\n"
     ]
    }
   ],
   "source": [
    "def exa():\n",
    "    for i in range(6):\n",
    "        print(\"child thred excuteing\",current_thread().getName())\n",
    "t1=Thread(target=exa)\n",
    "t1.start()\n",
    "t1.join()\n",
    "print(\"exit\",current_thread().getName())"
   ]
  },
  {
   "cell_type": "markdown",
   "metadata": {},
   "source": [
    "# Extend  with class"
   ]
  },
  {
   "cell_type": "code",
   "execution_count": 37,
   "metadata": {},
   "outputs": [
    {
     "name": "stdout",
     "output_type": "stream",
     "text": [
      "child  executing 2\n",
      "child  executing 1\n",
      "child  executing w\n",
      "child  executing 4.005\n",
      "child  executing class\n",
      "executeing done\n"
     ]
    }
   ],
   "source": [
    "class ex2:\n",
    "    def new(self):\n",
    "        lst=[2,1,'w',4.005,'class']\n",
    "        for i in lst:\n",
    "            print(\"child  executing\", i)\n",
    "objectex=ex2()   \n",
    "t1=Thread(target=objectex.new)\n",
    "t1.start()\n",
    "t1.join()\n",
    "print(\"executeing done\")"
   ]
  },
  {
   "cell_type": "code",
   "execution_count": 45,
   "metadata": {},
   "outputs": [
    {
     "name": "stdout",
     "output_type": "stream",
     "text": [
      "0\n",
      "2\n",
      "0\n",
      "1\n",
      "1\n",
      "2\n",
      "0\n",
      "2\n",
      "0\n",
      "0\n",
      "0\n",
      "1\n",
      "6.057270526885986\n"
     ]
    }
   ],
   "source": [
    "import time\n",
    "def ext(n):\n",
    "    for i in n:\n",
    "        time.sleep(1)\n",
    "        print(i%2)\n",
    "def ext2(n):\n",
    "    for i in n:\n",
    "        time.sleep(1)\n",
    "        print(i%3)\n",
    "n=[2,4,5,14,36,4]\n",
    "x=time.time()\n",
    "t1=Thread(target=ext,args=(n,))\n",
    "t2=Thread(target=ext2,args=(n,))\n",
    "t1.start()\n",
    "t2.start()\n",
    "t1.join()\n",
    "t2.join()\n",
    "f=time.time()\n",
    "print(f-x)"
   ]
  },
  {
   "cell_type": "code",
   "execution_count": 46,
   "metadata": {},
   "outputs": [
    {
     "name": "stdout",
     "output_type": "stream",
     "text": [
      "0\n",
      "1\n",
      "1\n",
      "0\n",
      "0\n",
      "0\n",
      "2\n",
      "2\n",
      "2\n",
      "2\n",
      "0\n",
      "1\n",
      "0.0009999275207519531\n"
     ]
    }
   ],
   "source": [
    "import time\n",
    "def ext(n):\n",
    "    for i in n:\n",
    "        print(i%2)\n",
    "def ext2(n):\n",
    "    for i in n:\n",
    "        print(i%3)\n",
    "n=[20,11,5,14,36,4]\n",
    "x=time.time()\n",
    "ext(n)\n",
    "ext2(n)\n",
    "f=time.time()\n",
    "print(f-x)"
   ]
  },
  {
   "cell_type": "code",
   "execution_count": null,
   "metadata": {},
   "outputs": [],
   "source": []
  }
 ],
 "metadata": {
  "kernelspec": {
   "display_name": "Python 3",
   "language": "python",
   "name": "python3"
  },
  "language_info": {
   "codemirror_mode": {
    "name": "ipython",
    "version": 3
   },
   "file_extension": ".py",
   "mimetype": "text/x-python",
   "name": "python",
   "nbconvert_exporter": "python",
   "pygments_lexer": "ipython3",
   "version": "3.8.5"
  }
 },
 "nbformat": 4,
 "nbformat_minor": 4
}
