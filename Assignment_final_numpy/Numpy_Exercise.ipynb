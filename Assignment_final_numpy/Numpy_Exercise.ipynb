{
 "cells": [
  {
   "cell_type": "markdown",
   "metadata": {},
   "source": [
    "# Numpy Exercise Solution  <img src = \"numpy1.png\">\n",
    "###### Authored by Nagendra yadav"
   ]
  },
  {
   "cell_type": "markdown",
   "metadata": {},
   "source": [
    "#### 1. Create a numpy array with the number of elements equals your age. The value of array elements is a random number between 10 to your age "
   ]
  },
  {
   "cell_type": "code",
   "execution_count": 1,
   "metadata": {},
   "outputs": [
    {
     "name": "stdout",
     "output_type": "stream",
     "text": [
      "[[15 15 20 13 14]\n",
      " [15 23 25 23 12]\n",
      " [16 21 25 15 17]\n",
      " [16 22 20 19 27]\n",
      " [16 14 17 25 21]]\n",
      "my age 25\n"
     ]
    }
   ],
   "source": [
    "#Solution\n",
    "import numpy as np\n",
    "age=np.random.randint(10,28,size=(5,5))\n",
    "print(age)\n",
    "print(\"my age\",age.size)"
   ]
  },
  {
   "cell_type": "markdown",
   "metadata": {},
   "source": [
    "#### 2. Create a numpy array between 1 to 50 with the span(space) of 2 and print the length of the array"
   ]
  },
  {
   "cell_type": "code",
   "execution_count": 2,
   "metadata": {},
   "outputs": [
    {
     "name": "stdout",
     "output_type": "stream",
     "text": [
      "[ 1  3  5  7  9 11 13 15 17 19 21 23 25 27 29 31 33 35 37 39 41 43 45 47\n",
      " 49]\n",
      "25\n"
     ]
    }
   ],
   "source": [
    "# Solution\n",
    "ex=np.arange(1,50,2)\n",
    "print(ex)\n",
    "print(len(ex))"
   ]
  },
  {
   "cell_type": "markdown",
   "metadata": {},
   "source": [
    "#### 3. Create an equally spaced numpy array with 27 elements between 4 and 7 "
   ]
  },
  {
   "cell_type": "code",
   "execution_count": 3,
   "metadata": {},
   "outputs": [
    {
     "name": "stdout",
     "output_type": "stream",
     "text": [
      "[4.         4.11538462 4.23076923 4.34615385 4.46153846 4.57692308\n",
      " 4.69230769 4.80769231 4.92307692 5.03846154 5.15384615 5.26923077\n",
      " 5.38461538 5.5        5.61538462 5.73076923 5.84615385 5.96153846\n",
      " 6.07692308 6.19230769 6.30769231 6.42307692 6.53846154 6.65384615\n",
      " 6.76923077 6.88461538 7.        ]\n",
      "length 27\n"
     ]
    }
   ],
   "source": [
    "# Solution\n",
    "sol2=np.linspace(4,7,27)\n",
    "print(sol2)\n",
    "print(\"length\",len(sol2))"
   ]
  },
  {
   "cell_type": "markdown",
   "metadata": {},
   "source": [
    "#### 4. Create a matrix of size (5 x 4) with random numbers and round off the each elements by only 2 fractional points."
   ]
  },
  {
   "cell_type": "code",
   "execution_count": 4,
   "metadata": {},
   "outputs": [
    {
     "name": "stdout",
     "output_type": "stream",
     "text": [
      "[[0.32 0.75 0.09 0.2 ]\n",
      " [0.31 0.15 0.27 0.4 ]\n",
      " [0.62 0.52 0.11 0.78]\n",
      " [0.57 0.35 0.44 0.89]\n",
      " [0.86 0.94 0.74 0.39]]\n"
     ]
    }
   ],
   "source": [
    "# Solution\n",
    "sol4=np.round(np.random.rand(5,4),2)\n",
    "print(sol4)\n"
   ]
  },
  {
   "cell_type": "markdown",
   "metadata": {},
   "source": [
    "#### 5. Create a matrix of size (5x5) with random integers between 5 to 15"
   ]
  },
  {
   "cell_type": "code",
   "execution_count": 5,
   "metadata": {},
   "outputs": [
    {
     "name": "stdout",
     "output_type": "stream",
     "text": [
      "[[13 14 11 13 11]\n",
      " [ 6  7 12  6 11]\n",
      " [ 8  5 13 11 11]\n",
      " [11 11  9  8  6]\n",
      " [10 14  5  9 13]]\n"
     ]
    }
   ],
   "source": [
    "# Solution\n",
    "sol5=np.random.randint(5,15,size=(5,5))\n",
    "print(sol5)"
   ]
  },
  {
   "cell_type": "markdown",
   "metadata": {},
   "source": [
    "#### 6. Create the one dimensional array of zeros of random length below 20 with the data type int32"
   ]
  },
  {
   "cell_type": "code",
   "execution_count": 6,
   "metadata": {},
   "outputs": [],
   "source": [
    "# Solution\n",
    "#sol6=np.zeros(np.random.randint(1,20),dtype='int32')\n",
    "#print(sol6)\n"
   ]
  },
  {
   "cell_type": "markdown",
   "metadata": {},
   "source": [
    "#### 7. Create a two dimensional array of ones of random row and column lengths with the data type of float32 "
   ]
  },
  {
   "cell_type": "code",
   "execution_count": 7,
   "metadata": {},
   "outputs": [
    {
     "name": "stdout",
     "output_type": "stream",
     "text": [
      "[[1. 1. 1. 1. 1. 1. 1.]\n",
      " [1. 1. 1. 1. 1. 1. 1.]\n",
      " [1. 1. 1. 1. 1. 1. 1.]\n",
      " [1. 1. 1. 1. 1. 1. 1.]\n",
      " [1. 1. 1. 1. 1. 1. 1.]\n",
      " [1. 1. 1. 1. 1. 1. 1.]\n",
      " [1. 1. 1. 1. 1. 1. 1.]\n",
      " [1. 1. 1. 1. 1. 1. 1.]\n",
      " [1. 1. 1. 1. 1. 1. 1.]\n",
      " [1. 1. 1. 1. 1. 1. 1.]\n",
      " [1. 1. 1. 1. 1. 1. 1.]\n",
      " [1. 1. 1. 1. 1. 1. 1.]\n",
      " [1. 1. 1. 1. 1. 1. 1.]\n",
      " [1. 1. 1. 1. 1. 1. 1.]]\n"
     ]
    }
   ],
   "source": [
    "# Solution\n",
    "sol7=np.ones((np.random.randint(1,20),np.random.randint(1,20)),dtype='float32')\n",
    "print(sol7)\n"
   ]
  },
  {
   "cell_type": "markdown",
   "metadata": {},
   "source": [
    "#### 8. Create a matrix exactly as same as shown below and print its shape, type and dtype\n",
    "<img src = \"np_mat1.png\">"
   ]
  },
  {
   "cell_type": "code",
   "execution_count": 8,
   "metadata": {},
   "outputs": [
    {
     "name": "stdout",
     "output_type": "stream",
     "text": [
      "(5, 5)\n",
      "<class 'numpy.ndarray'>\n",
      "int32\n",
      "[[ 9 25 50 34 45]\n",
      " [ 3 34 34 65  2]\n",
      " [ 5  7  3 76  3]\n",
      " [ 7  8  6 54  6]\n",
      " [23 12  8  5  8]]\n"
     ]
    }
   ],
   "source": [
    "# Solution\n",
    "a=np.array([[9,25,50,34,45],[3,34,34,65,2],[5,7,3,76,3],[7,8,6,54,6],[23,12,8,5,8]])\n",
    "print(a.shape)\n",
    "print(type(a))\n",
    "print(a.dtype)\n",
    "print(a)"
   ]
  },
  {
   "cell_type": "markdown",
   "metadata": {},
   "source": [
    "#### 9. Access the center pixel of the matrix defined in the question no 8 ( Don't enter the row and column index explicitely)"
   ]
  },
  {
   "cell_type": "code",
   "execution_count": 9,
   "metadata": {},
   "outputs": [
    {
     "name": "stdout",
     "output_type": "stream",
     "text": [
      "the center element is : 3\n"
     ]
    }
   ],
   "source": [
    "# Solution\n",
    "print(\"the center element is :\",a[2,2])\n"
   ]
  },
  {
   "cell_type": "markdown",
   "metadata": {},
   "source": [
    "#### 10. Print the all the elements of 3rd row of the matrix"
   ]
  },
  {
   "cell_type": "code",
   "execution_count": 10,
   "metadata": {},
   "outputs": [
    {
     "name": "stdout",
     "output_type": "stream",
     "text": [
      "[ 5  7  3 76  3]\n"
     ]
    }
   ],
   "source": [
    "# Solution\n",
    "print(a[2])"
   ]
  },
  {
   "cell_type": "markdown",
   "metadata": {},
   "source": [
    "#### 11. Print the all the elements of 4th columns of the matrix"
   ]
  },
  {
   "cell_type": "code",
   "execution_count": 11,
   "metadata": {},
   "outputs": [
    {
     "name": "stdout",
     "output_type": "stream",
     "text": [
      "[34 65 76 54  5]\n"
     ]
    }
   ],
   "source": [
    "# Solution\n",
    "print(a[:,3])"
   ]
  },
  {
   "cell_type": "markdown",
   "metadata": {},
   "source": [
    "#### 12. Print the 4 corner pixels of the matrix"
   ]
  },
  {
   "cell_type": "code",
   "execution_count": 12,
   "metadata": {},
   "outputs": [
    {
     "data": {
      "text/plain": [
       "array([[ 9, 45],\n",
       "       [23,  8]])"
      ]
     },
     "execution_count": 12,
     "metadata": {},
     "output_type": "execute_result"
    }
   ],
   "source": [
    "# Solution\n",
    "#a[[0,4]][:,[0,4]] this one good\n",
    "x=a[[0,4],:]\n",
    "y=x[:,[0,4]]\n",
    "y"
   ]
  },
  {
   "cell_type": "markdown",
   "metadata": {},
   "source": [
    "#### 13. Create three matrix m1,m2,m3 with the elements grouped in the figure below\n",
    "<img src = \"np_mat2.png\">"
   ]
  },
  {
   "cell_type": "code",
   "execution_count": 13,
   "metadata": {},
   "outputs": [
    {
     "name": "stdout",
     "output_type": "stream",
     "text": [
      "[[50 34]\n",
      " [34 65]]\n",
      "[[ 7  8]\n",
      " [23 12]]\n",
      "[[ 3 76  3]\n",
      " [ 6 54  6]\n",
      " [ 8  5  8]]\n"
     ]
    }
   ],
   "source": [
    "# Solution \n",
    "m1=a[0:2,2:4]\n",
    "m3=a[2:5,2:5]\n",
    "m2=a[3:5,0:2]\n",
    "print(m1)\n",
    "print(m2)\n",
    "print(m3)"
   ]
  },
  {
   "cell_type": "markdown",
   "metadata": {},
   "source": [
    "#### 14. Reshape all the three matrix segmented in the above task in to three  1-dimensional vector."
   ]
  },
  {
   "cell_type": "code",
   "execution_count": 14,
   "metadata": {},
   "outputs": [
    {
     "name": "stdout",
     "output_type": "stream",
     "text": [
      "[[50 34 34 65]]\n",
      "[[ 7  8 23 12]]\n",
      "[[ 3 76  3  6 54  6  8  5  8]]\n"
     ]
    }
   ],
   "source": [
    "n1=m1.reshape((1,4)) #([1,-1])\n",
    "print(n1)\n",
    "n2=m2.reshape((1,4)) #([1,np.size(m2)])\n",
    "print(n2)\n",
    "n3=m3.reshape((1,9)) #([1,-1])\n",
    "print(n3)"
   ]
  },
  {
   "cell_type": "markdown",
   "metadata": {},
   "source": [
    "#### 15. Concatenate the matrix m1 and m2 in both vertical and horizontal direction"
   ]
  },
  {
   "cell_type": "code",
   "execution_count": 15,
   "metadata": {},
   "outputs": [
    {
     "name": "stdout",
     "output_type": "stream",
     "text": [
      "Row wise :\n",
      " [[50 34]\n",
      " [34 65]\n",
      " [ 7  8]\n",
      " [23 12]]\n",
      "Column wise :\n",
      " [[50 34  7  8]\n",
      " [34 65 23 12]]\n"
     ]
    }
   ],
   "source": [
    "# Solution\n",
    "print('Row wise :\\n',np.concatenate((m1,m2)))\n",
    "print('Column wise :\\n',np.concatenate((m1,m2),axis=1))"
   ]
  },
  {
   "cell_type": "code",
   "execution_count": 16,
   "metadata": {},
   "outputs": [
    {
     "name": "stdout",
     "output_type": "stream",
     "text": [
      "[[50 34  7  8]\n",
      " [34 65 23 12]]\n",
      "[[50 34]\n",
      " [34 65]\n",
      " [ 7  8]\n",
      " [23 12]]\n"
     ]
    }
   ],
   "source": [
    "mh=np.hstack([m1,m2]) #horizontal stack\n",
    "mv=np.vstack([m1,m2]) #vertical stack \n",
    "print(mh,mv,sep=\"\\n\")"
   ]
  },
  {
   "cell_type": "code",
   "execution_count": 17,
   "metadata": {},
   "outputs": [
    {
     "name": "stdout",
     "output_type": "stream",
     "text": [
      "[[50 34  7  8]\n",
      " [34 65 23 12]]\n",
      "[[50 34]\n",
      " [34 65]\n",
      " [ 7  8]\n",
      " [23 12]]\n"
     ]
    }
   ],
   "source": [
    "\n",
    "print(np.concatenate([m1,m2],axis=1))\n",
    "print(np.concatenate([m1,m2]))"
   ]
  },
  {
   "cell_type": "markdown",
   "metadata": {},
   "source": [
    "#### 16. Add, Subtract, multiply, divide the matrixes m1 and m2"
   ]
  },
  {
   "cell_type": "code",
   "execution_count": 18,
   "metadata": {},
   "outputs": [
    {
     "name": "stdout",
     "output_type": "stream",
     "text": [
      "[[57 42]\n",
      " [57 77]]\n",
      "[[350 272]\n",
      " [782 780]]\n",
      "[[43 26]\n",
      " [11 53]]\n",
      "[[7.14285714 4.25      ]\n",
      " [1.47826087 5.41666667]]\n"
     ]
    }
   ],
   "source": [
    "# Solution\n",
    "add=m1+m2\n",
    "mul=m1*m2\n",
    "sub=m1-m2\n",
    "div=m1/m2\n",
    "print(add)\n",
    "print(mul)\n",
    "print(sub)\n",
    "print(div)\n"
   ]
  },
  {
   "cell_type": "markdown",
   "metadata": {},
   "source": [
    "#### 17. Add the m1 with m3 by removing the first row and last column of m3"
   ]
  },
  {
   "cell_type": "code",
   "execution_count": 19,
   "metadata": {},
   "outputs": [
    {
     "name": "stdout",
     "output_type": "stream",
     "text": [
      "[[56 88]\n",
      " [42 70]]\n"
     ]
    }
   ],
   "source": [
    "# Solution\n",
    "\n",
    "new_m=m3[1:,:-1]\n",
    "print(new_m+m1)"
   ]
  },
  {
   "cell_type": "markdown",
   "metadata": {},
   "source": [
    "#### 18. Form the matrix m4 by concatenating (as a new row) the vector [me1, me2] with the matrix m1, where me1 and me2 are the mean values of each column on m1."
   ]
  },
  {
   "cell_type": "code",
   "execution_count": 20,
   "metadata": {},
   "outputs": [
    {
     "name": "stdout",
     "output_type": "stream",
     "text": [
      "42.0 49.5\n",
      "[42.  49.5]\n",
      "[42.  49.5]\n",
      "[[50.  34. ]\n",
      " [34.  65. ]\n",
      " [42.  49.5]]\n"
     ]
    }
   ],
   "source": [
    "# Solution\n",
    "#x = np.mean(m1,1)\n",
    "#m4 = np.vstack((m1,x))\n",
    "#m4\n",
    "\n",
    "new_m1=np.mean(m1[:,0])\n",
    "new_m2=np.mean(m1[:,1])\n",
    "print(new_m1,new_m2)\n",
    "new__m3=np.hstack([new_m1,new_m2])\n",
    "print(new__m3)\n",
    "new_var=np.mean(m1,axis=0) #axis =0 is using for computing\n",
    "print(new_var)\n",
    "m4=np.vstack([m1,new_var])\n",
    "print(m4)"
   ]
  },
  {
   "cell_type": "markdown",
   "metadata": {},
   "source": [
    "#### 19. Perform the matrix multiplication between m3 and m4"
   ]
  },
  {
   "cell_type": "code",
   "execution_count": 21,
   "metadata": {},
   "outputs": [
    {
     "name": "stdout",
     "output_type": "stream",
     "text": [
      "[[50.  34. ]\n",
      " [34.  65. ]\n",
      " [42.  49.5]]\n",
      "[[ 3 76  3]\n",
      " [ 6 54  6]\n",
      " [ 8  5  8]]\n",
      "Multiplaction [[2860.  5190.5]\n",
      " [2388.  4011. ]\n",
      " [ 906.   993. ]]\n"
     ]
    }
   ],
   "source": [
    "# Solution\n",
    "print(m4,m3,sep='\\n')\n",
    "print(\"Multiplaction\",(np.dot(m3,m4)))"
   ]
  },
  {
   "cell_type": "markdown",
   "metadata": {},
   "source": [
    "#### 20. Compute the maximum and minimum value of mean, variance, standard deviation for each row of matrix created in question number 8."
   ]
  },
  {
   "cell_type": "code",
   "execution_count": 22,
   "metadata": {},
   "outputs": [
    {
     "name": "stdout",
     "output_type": "stream",
     "text": [
      "11.2\n",
      "32.6\n",
      "39.760000000000005\n",
      "820.1600000000001\n",
      "6.305553108173779\n",
      "28.63843571147\n"
     ]
    }
   ],
   "source": [
    "# Solution\n",
    "print(min(np.mean(a,axis=1)))\n",
    "print(max(np.mean(a,axis=1)))\n",
    "print(min(np.var(a,axis=1)))\n",
    "print(max(np.var(a,axis=1)))\n",
    "print(min(np.std(a,axis=1)))\n",
    "print(max(np.std(a,axis=1)))"
   ]
  },
  {
   "cell_type": "markdown",
   "metadata": {},
   "source": [
    "#### 21. Compute the average and strike rate for each player and sort it decending way (seperately for avg and strike rate)\n",
    "<img src = 'crick1.png'>"
   ]
  },
  {
   "cell_type": "code",
   "execution_count": 23,
   "metadata": {},
   "outputs": [
    {
     "name": "stdout",
     "output_type": "stream",
     "text": [
      "[['MSD' '50' '42' '22' '78']\n",
      " ['Kholi' '95' '8' '65' '43']\n",
      " ['Rohit' '9' '100' '7' '101']\n",
      " ['Rahul' '27' '3' '11' '31']\n",
      " ['Dhawan' '24' '20' '36' '27']]\n",
      "\n",
      " the ball matrix \n",
      "  [['50' '42' '22' '78']\n",
      " ['95' '8' '65' '43']\n",
      " ['9' '100' '7' '101']\n",
      " ['27' '3' '11' '31']\n",
      " ['24' '20' '36' '27']]\n",
      "\n",
      " the Run matrix \n",
      "  [['54' '60' '10' '65']\n",
      " ['102' '2' '78' '32']\n",
      " ['3' '110' '1' '92']\n",
      " ['56' '6' '12' '42']\n",
      " ['12' '8' '22' '11']]\n",
      "[[108.         142.85714286  45.45454545  83.33333333]\n",
      " [107.36842105  25.         120.          74.41860465]\n",
      " [ 33.33333333 110.          14.28571429  91.08910891]\n",
      " [207.40740741 200.         109.09090909 135.48387097]\n",
      " [ 50.          40.          61.11111111  40.74074074]]\n",
      "\n",
      " the strike for each player \n",
      "  [ 94.91125541  81.69675643  62.17703913 162.99554687  47.96296296]\n",
      "\n",
      " player ball faced with strike run rate \n",
      " [['MSD' '50' '42' '22' '78' '94.91125541125541']\n",
      " ['Kholi' '95' '8' '65' '43' '81.69675642594859']\n",
      " ['Rohit' '9' '100' '7' '101' '62.17703913248468']\n",
      " ['Rahul' '27' '3' '11' '31' '162.99554686651462']\n",
      " ['Dhawan' '24' '20' '36' '27' '47.96296296296296']]\n",
      "\n",
      " final list \n",
      " [['Rahul' '27' '3' '11' '31' '162.99554686651462']\n",
      " ['MSD' '50' '42' '22' '78' '94.91125541125541']\n",
      " ['Kholi' '95' '8' '65' '43' '81.69675642594859']\n",
      " ['Rohit' '9' '100' '7' '101' '62.17703913248468']\n",
      " ['Dhawan' '24' '20' '36' '27' '47.96296296296296']]\n"
     ]
    }
   ],
   "source": [
    "# Solution \n",
    "balls=np.array([['MSD',50,42,22,78],['Kholi',95,8,65,43],['Rohit',9,100,7,101],\n",
    "               ['Rahul',27,3,11,31],['Dhawan',24,20,36,27]])\n",
    "#run \n",
    "run=np.array([['MSD',54,60,10,65],['Kholi',102,2,78,32],['Rohit',3,110,1,92],\n",
    "               ['Rahul',56,6,12,42],['Dhawan',12,8,22,11]])\n",
    "print(balls)\n",
    "ball=balls[:,1:5]\n",
    "print('\\n the ball matrix \\n ',ball)\n",
    "ball1=ball.astype(\"int32\") #to make this as integer\n",
    "runs=run[:,1:5]\n",
    "run1=runs.astype(\"int32\") #to make this as integer\n",
    "print('\\n the Run matrix \\n ',runs)\n",
    "strike=run1/ball1 *100\n",
    "print(strike)\n",
    "sr=strike.mean(axis=1)\n",
    "print(\"\\n the strike for each player \\n \",sr)\n",
    "sr1=sr.reshape([5,1])\n",
    "player_sr=np.concatenate([balls,sr1],axis=1)\n",
    "print(\"\\n player ball faced with strike run rate \\n\",player_sr)\n",
    "ind=sr.argsort() #accessending\n",
    "final_output=player_sr[ind,:][::-1]\n",
    "print(\"\\n final list \\n\",final_output)"
   ]
  },
  {
   "cell_type": "markdown",
   "metadata": {},
   "source": [
    "#### 22. The students mark was recorded in a numpy array: marks = np.array([65,84,47,56,89,98,48,77,80,39]).  Cutoff for pass is 50 marks. Write the logic to print the number of students passed and failed. "
   ]
  },
  {
   "cell_type": "code",
   "execution_count": 33,
   "metadata": {},
   "outputs": [
    {
     "name": "stdout",
     "output_type": "stream",
     "text": [
      "student passed :  7\n",
      "student failed :  [47 48 39]\n",
      "student failed :  [65 84 56 89 98 77 80]\n"
     ]
    }
   ],
   "source": [
    "marks = np.array([65,84,47,56,89,98,48,77,80,39])\n",
    "pass_ind=np.where(Marks>50)\n",
    "pass_marks=marks[pass_ind]\n",
    "fail_ind=np.where(marks<50)\n",
    "fail_marks=Marks[fail_ind]\n",
    "#a=Marks[Marks<50]\n",
    "print('student passed : ',len(pass_marks))\n",
    "print('student failed : ',fail_marks)\n",
    "print('student failed : ',pass_marks)"
   ]
  },
  {
   "cell_type": "markdown",
   "metadata": {},
   "source": [
    "#### 23. The class incharge decided to give a mercy mark of 5 for those who scored between 45 and 49. Also the bonus of 5 marks awarded to the students who scored more than 80. Print all the student marks and compute the increase in the pass percentage of class. Any score more than 100 must be recorded as only 100."
   ]
  },
  {
   "cell_type": "code",
   "execution_count": 49,
   "metadata": {},
   "outputs": [
    {
     "name": "stdout",
     "output_type": "stream",
     "text": [
      "\n",
      " Actual student marks \n",
      " [65 84 47 56 89 98 48 77 80 39]\n",
      "\n",
      " New_marks which provides to  student marks \n",
      " [ 65 100  52  56 100  98  53  77  80  39]\n",
      "\n",
      " the  pertange increase in marks \n",
      " 20.0\n"
     ]
    }
   ],
   "source": [
    "new_marks=marks.copy()\n",
    "new_marks\n",
    "mercy_marks=np.where((new_marks>=45) & (new_marks<=49))\n",
    "new_marks[mercy_marks]=new_marks[mercy_marks]+5\n",
    "bouns_marks=np.where((new_marks>80) & (new_marks<=95))\n",
    "new_marks[bouns_marks]=new_marks[bouns_marks]+5\n",
    "\n",
    "new_marks1=np.where(new_marks>95)\n",
    "new_marks[bouns_marks]=100\n",
    "\n",
    "\n",
    "print('\\n Actual student marks \\n', marks)\n",
    "print('\\n New_marks which provides to  student marks \\n', new_marks)\n",
    "actual_pass_marks=(len(marks[np.where(marks>=50)])/len(marks))*100\n",
    "our_new_marks=(len(new_marks[np.where(new_marks>=50)])/len(new_marks))*100\n",
    "inc_in_percentage=our_new_marks-actual_pass_marks    \n",
    "print(\"\\n the  pertange increase in marks \\n\",inc_in_percentage)"
   ]
  },
  {
   "cell_type": "markdown",
   "metadata": {},
   "source": [
    "#### 24. Print the time taken for performing the following operation using list and numpy array\n",
    "####       (x(i)^2 +8) / y(i),   where x and y are real integers from 1 to 60000"
   ]
  },
  {
   "cell_type": "code",
   "execution_count": 73,
   "metadata": {},
   "outputs": [
    {
     "name": "stdout",
     "output_type": "stream",
     "text": [
      "time taken to complete the computation using list :  43.999671936035156\n",
      "time taken to complete the computation using Numpy :  1.0123252868652344\n"
     ]
    }
   ],
   "source": [
    "import time\n",
    "x=range(1,60000)\n",
    "y=range(1,60000)\n",
    "out=[]\n",
    "st=time.time()\n",
    "for i,j in zip(x,y):\n",
    "    out.append((x[i-1]*x[i-1]+8)/y[i-1])\n",
    "print('time taken to complete the computation using list : ',(time.time()-st)*1000)\n",
    "\n",
    "x_arr=np.arange(1,60000)\n",
    "y_arr=np.arange(1,60000)\n",
    "st_t=time.time()\n",
    "out_arr=((x_arr*x_arr)+8)/y_arr\n",
    "print('time taken to complete the computation using Numpy : ',(time.time()-st_t)*1000)"
   ]
  },
  {
   "cell_type": "markdown",
   "metadata": {},
   "source": [
    "#### 25. Create a Github account and upload your solution with the short write-up on Numpy"
   ]
  },
  {
   "cell_type": "code",
   "execution_count": 25,
   "metadata": {},
   "outputs": [],
   "source": [
    "https://github.com/Akashkumar201/DataScience/blob/master/NumPy/Numpy_Exercise.ipynb",
    "\n"
   ]
  },
  {
   "cell_type": "code",
   "execution_count": null,
   "metadata": {},
   "outputs": [],
   "source": []
  }
 ],
 "metadata": {
  "kernelspec": {
   "display_name": "Python 3",
   "language": "python",
   "name": "python3"
  },
  "language_info": {
   "codemirror_mode": {
    "name": "ipython",
    "version": 3
   },
   "file_extension": ".py",
   "mimetype": "text/x-python",
   "name": "python",
   "nbconvert_exporter": "python",
   "pygments_lexer": "ipython3",
   "version": "3.8.5"
  }
 },
 "nbformat": 4,
 "nbformat_minor": 4
}
